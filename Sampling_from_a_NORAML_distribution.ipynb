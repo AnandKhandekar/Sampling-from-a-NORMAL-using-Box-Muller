{
  "nbformat": 4,
  "nbformat_minor": 0,
  "metadata": {
    "colab": {
      "name": "Sampling_from_a_NORAML_distribution.ipynb",
      "provenance": [],
      "authorship_tag": "ABX9TyPlo3Bo+lmH4ceUqos7KEZz",
      "include_colab_link": true
    },
    "kernelspec": {
      "name": "python3",
      "display_name": "Python 3"
    }
  },
  "cells": [
    {
      "cell_type": "markdown",
      "metadata": {
        "id": "view-in-github",
        "colab_type": "text"
      },
      "source": [
        "<a href=\"https://colab.research.google.com/github/AnandKhandekar/Sampling-froma-NORMAL-using-Box-Muller/blob/master/Sampling_from_a_NORAML_distribution.ipynb\" target=\"_parent\"><img src=\"https://colab.research.google.com/assets/colab-badge.svg\" alt=\"Open In Colab\"/></a>"
      ]
    },
    {
      "cell_type": "markdown",
      "metadata": {
        "id": "UUbQSXFg6bUr",
        "colab_type": "text"
      },
      "source": [
        "# Drawing Normally-distributed samples with the Box-Muller transform\n",
        "\n",
        "Let us generate Random numbes using the basic 2D Polar to Cartesian Co-ordinates.Box-Muller sampling is based on representing the joint distribution of two independent standard Normal random Cartesian variables X and Y, \n",
        "$X\\sim(0,1)$ and \n",
        "$Y\\sim(0,1)$\n",
        "\n",
        "In  Polar co ordinates, the joint distribution\n",
        "*  $p(x,y)=p(x) p(y)=\\frac{1}{\\sqrt{2\\pi}}e^{-(\\frac{x^2}{2})}\\frac{1}{2\\pi}e^{-(\\frac{y^2}{2})}=\\frac{1}{2\\pi}e^{-\\frac {(x^2+y^2)}{2}}$\n",
        "\n",
        "If we notice that the $x^2 + y^2$ term in the numerator of the exponent is equal to $r^2$ we can make the connection between the the Cartesian representation of the joint Normal distribution and its polar representation:\n",
        "* $p(x,y)=\\frac{1}{2\\pi}e^{-(\\frac{r^2}{2})}$ which is the product of two density functions, an [exponential distribution](https://en.wikipedia.org/wiki/Exponential_distribution) over squared radii:\n",
        "\n",
        "$r^2\\sim Exp(\\frac{1}{2})$ and a uniform distribution over angles $\\theta \\sim Unif(0,2\\pi)$\n",
        "\n",
        "Also note that : $Exp(\\lambda)=\\frac{-\\log(Unif(0,1))}{\\lambda}$ then $r\\sim\\sqrt{-2log(Unif(0,1))}$\n",
        "\n",
        "This gives us  a way to generate points form a joint Gaussian distribtion by samling points from two independent uniform distributions, one for $r$\n",
        "and another for $\\theta$. We finally transform them back into Cartesian form Polar cordinates.\n",
        "\n",
        "\n",
        "\n"
      ]
    },
    {
      "cell_type": "markdown",
      "metadata": {
        "id": "zuUBr2Qss0e_",
        "colab_type": "text"
      },
      "source": [
        "***\n",
        "#Steps in the Algortihm\n",
        "\n",
        "* Draw, $u_1,u_2 \\sim Unif(0,1)$\n",
        "* Transform both f them into radius $r$ and angle $\\theta$ where $r=\\sqrt{-2log(u_1)}$ and $\\theta = 2\\pi \\;u_2$ \n",
        "* Tranform the radius and tthe anngle to Cartesian using $x=r\\; cos(\\theta)$ and $y=r\\sin(\\theta)$"
      ]
    },
    {
      "cell_type": "code",
      "metadata": {
        "id": "7bWIO1m1vFvd",
        "colab_type": "code",
        "colab": {}
      },
      "source": [
        "import numpy as np\n",
        "import matplotlib.pyplot as plt\n",
        "%matplotlib inline\n"
      ],
      "execution_count": 0,
      "outputs": []
    },
    {
      "cell_type": "code",
      "metadata": {
        "id": "1HlMgvna6Odz",
        "colab_type": "code",
        "colab": {}
      },
      "source": [
        "# the Box-Muller Algorithm \n",
        "# Draw samples from the proposal distributions\n",
        "\n",
        "u=np.random.rand(2,100000)\n",
        "\n",
        "r = np.sqrt(-2*np.log(u[0,:]))\n",
        "theta = 2*np.pi*u[1,:]\n",
        "\n",
        "x= r*np.cos(theta)\n",
        "y=r*np.sin(theta)\n"
      ],
      "execution_count": 0,
      "outputs": []
    },
    {
      "cell_type": "code",
      "metadata": {
        "id": "UpgKs9LZvAy-",
        "colab_type": "code",
        "colab": {
          "base_uri": "https://localhost:8080/",
          "height": 297
        },
        "outputId": "811c020f-9aa7-44dd-a2a9-cd1fa0c3d3d3"
      },
      "source": [
        "# Display the Box-Muller Samples\n",
        "# Display \"X\" \n",
        "np.random.seed(42)\n",
        "fig, axs = plt.subplots(1, 2, sharey=True, tight_layout=True)\n",
        "axs[0].hist(x, bins=100,color='red')\n",
        "plt.axvline(0, color=\"blue\", zorder=10)\n",
        "axs[1].hist(y, bins=100,color='green')\n",
        "\n",
        "plt.show()\n",
        "\n"
      ],
      "execution_count": 23,
      "outputs": [
        {
          "output_type": "display_data",
          "data": {
            "image/png": "[encoded data removed]",
            "text/plain": [
              "<Figure size 432x288 with 2 Axes>"
            ]
          },
          "metadata": {
            "tags": [],
            "needs_background": "light"
          }
        }
      ]
    },
    {
      "cell_type": "markdown",
      "metadata": {
        "id": "6oFaP5IS2jcV",
        "colab_type": "text"
      },
      "source": [
        "# The Box-Muller transform is another example of of how uniform variables on the interval (0,1) and can be  transformed in order to sample from a more complicated distribution."
      ]
    }
  ]
}